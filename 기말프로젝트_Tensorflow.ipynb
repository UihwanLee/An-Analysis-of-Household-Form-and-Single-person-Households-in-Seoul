{
 "cells": [
  {
   "cell_type": "code",
   "execution_count": 1,
   "metadata": {},
   "outputs": [],
   "source": [
    "import tensorflow as tf\n",
    "import pandas as pd\n",
    "import numpy as np\n",
    "import matplotlib.pyplot as plt\n",
    "from matplotlib import font_manager, rc\n",
    "from matplotlib import style"
   ]
  },
  {
   "cell_type": "code",
   "execution_count": 2,
   "metadata": {},
   "outputs": [],
   "source": [
    "font_name = font_manager.FontProperties(fname=\"c:/Windows/Fonts/malgun.ttf\").get_name()\n",
    "rc('font', family=font_name)\n",
    "plt.rcParams['axes.unicode_minus'] = False"
   ]
  },
  {
   "cell_type": "code",
   "execution_count": 3,
   "metadata": {},
   "outputs": [],
   "source": [
    "data = pd.read_csv(\"연도별1인기구통계.csv\", encoding = 'cp949')"
   ]
  },
  {
   "cell_type": "code",
   "execution_count": 4,
   "metadata": {},
   "outputs": [
    {
     "data": {
      "text/html": [
       "<div>\n",
       "<style scoped>\n",
       "    .dataframe tbody tr th:only-of-type {\n",
       "        vertical-align: middle;\n",
       "    }\n",
       "\n",
       "    .dataframe tbody tr th {\n",
       "        vertical-align: top;\n",
       "    }\n",
       "\n",
       "    .dataframe thead th {\n",
       "        text-align: right;\n",
       "    }\n",
       "</style>\n",
       "<table border=\"1\" class=\"dataframe\">\n",
       "  <thead>\n",
       "    <tr style=\"text-align: right;\">\n",
       "      <th></th>\n",
       "      <th>행정구역별(시군구)</th>\n",
       "      <th>성별</th>\n",
       "      <th>2018</th>\n",
       "      <th>2017</th>\n",
       "      <th>2016</th>\n",
       "      <th>2015</th>\n",
       "    </tr>\n",
       "  </thead>\n",
       "  <tbody>\n",
       "    <tr>\n",
       "      <th>0</th>\n",
       "      <td>행정구역별(시군구)</td>\n",
       "      <td>성별</td>\n",
       "      <td>1인가구</td>\n",
       "      <td>1인가구</td>\n",
       "      <td>1인가구</td>\n",
       "      <td>1인가구</td>\n",
       "    </tr>\n",
       "    <tr>\n",
       "      <th>1</th>\n",
       "      <td>전국</td>\n",
       "      <td>계</td>\n",
       "      <td>5848594</td>\n",
       "      <td>5618677</td>\n",
       "      <td>5397615</td>\n",
       "      <td>5203440</td>\n",
       "    </tr>\n",
       "    <tr>\n",
       "      <th>2</th>\n",
       "      <td>전국</td>\n",
       "      <td>남자</td>\n",
       "      <td>2906320</td>\n",
       "      <td>2791849</td>\n",
       "      <td>2675861</td>\n",
       "      <td>2592963</td>\n",
       "    </tr>\n",
       "    <tr>\n",
       "      <th>3</th>\n",
       "      <td>전국</td>\n",
       "      <td>여자</td>\n",
       "      <td>2942274</td>\n",
       "      <td>2826828</td>\n",
       "      <td>2721754</td>\n",
       "      <td>2610477</td>\n",
       "    </tr>\n",
       "    <tr>\n",
       "      <th>4</th>\n",
       "      <td>서울특별시</td>\n",
       "      <td>계</td>\n",
       "      <td>1229421</td>\n",
       "      <td>1180540</td>\n",
       "      <td>1138860</td>\n",
       "      <td>1115744</td>\n",
       "    </tr>\n",
       "    <tr>\n",
       "      <th>5</th>\n",
       "      <td>서울특별시</td>\n",
       "      <td>남자</td>\n",
       "      <td>581944</td>\n",
       "      <td>561524</td>\n",
       "      <td>544607</td>\n",
       "      <td>544059</td>\n",
       "    </tr>\n",
       "    <tr>\n",
       "      <th>6</th>\n",
       "      <td>서울특별시</td>\n",
       "      <td>여자</td>\n",
       "      <td>647477</td>\n",
       "      <td>619016</td>\n",
       "      <td>594253</td>\n",
       "      <td>571685</td>\n",
       "    </tr>\n",
       "    <tr>\n",
       "      <th>7</th>\n",
       "      <td>경기도</td>\n",
       "      <td>계</td>\n",
       "      <td>1197586</td>\n",
       "      <td>1124541</td>\n",
       "      <td>1067916</td>\n",
       "      <td>1026471</td>\n",
       "    </tr>\n",
       "    <tr>\n",
       "      <th>8</th>\n",
       "      <td>경기도</td>\n",
       "      <td>남자</td>\n",
       "      <td>647041</td>\n",
       "      <td>607758</td>\n",
       "      <td>574609</td>\n",
       "      <td>556495</td>\n",
       "    </tr>\n",
       "    <tr>\n",
       "      <th>9</th>\n",
       "      <td>경기도</td>\n",
       "      <td>여자</td>\n",
       "      <td>550545</td>\n",
       "      <td>516783</td>\n",
       "      <td>493307</td>\n",
       "      <td>469976</td>\n",
       "    </tr>\n",
       "  </tbody>\n",
       "</table>\n",
       "</div>"
      ],
      "text/plain": [
       "   행정구역별(시군구)  성별     2018     2017     2016     2015\n",
       "0  행정구역별(시군구)  성별     1인가구     1인가구     1인가구     1인가구\n",
       "1          전국   계  5848594  5618677  5397615  5203440\n",
       "2          전국  남자  2906320  2791849  2675861  2592963\n",
       "3          전국  여자  2942274  2826828  2721754  2610477\n",
       "4       서울특별시   계  1229421  1180540  1138860  1115744\n",
       "5       서울특별시  남자   581944   561524   544607   544059\n",
       "6       서울특별시  여자   647477   619016   594253   571685\n",
       "7         경기도   계  1197586  1124541  1067916  1026471\n",
       "8         경기도  남자   647041   607758   574609   556495\n",
       "9         경기도  여자   550545   516783   493307   469976"
      ]
     },
     "execution_count": 4,
     "metadata": {},
     "output_type": "execute_result"
    }
   ],
   "source": [
    "data"
   ]
  },
  {
   "cell_type": "code",
   "execution_count": 5,
   "metadata": {},
   "outputs": [],
   "source": [
    "df1 = data.loc[4,[\"2015\", \"2016\", \"2017\", \"2018\"]] # 2015년 ~ 2018년 서울특별시 1인기구 남녀합 통계 추출 \n",
    "df2 = data.loc[5,[\"2015\", \"2016\", \"2017\", \"2018\"]] # 2015년 ~ 2018년 서울특별시 1인기구 남자 통계 추출 \n",
    "df3 = data.loc[6,[\"2015\", \"2016\", \"2017\", \"2018\"]] # 2015년 ~ 2018년 서울특별시 1인기구 여자 통계 추출 "
   ]
  },
  {
   "cell_type": "code",
   "execution_count": 6,
   "metadata": {},
   "outputs": [
    {
     "name": "stdout",
     "output_type": "stream",
     "text": [
      "[1115744, 1138860, 1180540, 1229421]\n",
      "[544059, 544607, 561524, 581944]\n",
      "[571685, 594253, 619016, 647477]\n"
     ]
    }
   ],
   "source": [
    "xData = [1, 2, 3, 4] # Tensorflow에서 학습할 데이터(년도) : 해당 데이터에서는 2015~2018년 고정\n",
    "xData1 = [2015, 2016, 2017, 2018, 2019, 2020, 2021, 2022, 2023, 2024] # 2015년 ~2024년까지 데이터 예측\n",
    "yData1 = [] # Tensorflow에사 학습할 데이터에 대한 값이 들어가는 데이터(1인기구수)\n",
    "yData2 = [] # Tensorflow에사 학습할 데이터에 대한 값이 들어가는 데이터(1인기구수: 남)\n",
    "yData3 = [] # Tensorflow에사 학습할 데이터에 대한 값이 들어가는 데이터(1인기구수: 여)\n",
    "\n",
    "for row in df1:\n",
    "    yData1.append(int(row))\n",
    "for row in df2:\n",
    "    yData2.append(int(row))\n",
    "for row in df3:\n",
    "    yData3.append(int(row))\n",
    "print(yData1)\n",
    "print(yData2)\n",
    "print(yData3)"
   ]
  },
  {
   "cell_type": "code",
   "execution_count": 7,
   "metadata": {},
   "outputs": [
    {
     "name": "stdout",
     "output_type": "stream",
     "text": [
      "0 990288100000.0 [59203.1] [23298.201]\n",
      "500 7480082400.0 [110043.7] [859443.3]\n",
      "1000 413967800.0 [54298.66] [1023340.5]\n",
      "1500 61599476.0 [41850.395] [1059940.]\n",
      "2000 44025996.0 [39070.38] [1068113.5]\n",
      "2500 43149800.0 [38449.883] [1069938.]\n",
      "3000 43105976.0 [38311.7] [1070344.2]\n",
      "3500 43103348.0 [38280.086] [1070437.4]\n",
      "4000 43103660.0 [38277.453] [1070444.5]\n",
      "4500 43103660.0 [38277.453] [1070444.5]\n",
      "5000 43103660.0 [38277.453] [1070444.5]\n",
      "[1300109.2]\n"
     ]
    }
   ],
   "source": [
    "# 서울특별시 1인가구수 학습\n",
    "W = tf.Variable(tf.random.uniform([1], -100, 100)) # -100부터 100까지 랜덤한 값을 가진다\n",
    "b = tf.Variable(tf.random.uniform([1], -100, 100))\n",
    "X = tf.compat.v1.placeholder(tf.float32)\n",
    "Y = tf.compat.v1.placeholder(tf.float32)\n",
    "H = W * X + b\n",
    "cost = tf.reduce_mean(tf.square(H - Y)) #reduce mean은 평균값을 의미한다\n",
    "a = tf.Variable(0.01) #경사하강에서 얼나 경사하강을 할지 정해준다. 이값이 커지면 부정확해진다\n",
    "optimizer = tf.compat.v1.train.GradientDescentOptimizer(a)\n",
    "train = optimizer.minimize(cost) #값을 최소화 하는 방향으로 설정\n",
    "init = tf.compat.v1.global_variables_initializer()\n",
    "sess = tf.compat.v1.Session()\n",
    "sess.run(init)\n",
    "#학습을 시키는 파트\n",
    "for i in range(5001):\n",
    "    sess.run(train, feed_dict = {X: xData, Y: yData1})\n",
    "    if i % 500 == 0:\n",
    "        print(i, sess.run(cost, feed_dict = {X: xData, Y: yData1}),sess.run(W),sess.run(b))\n",
    "# x의 6번째 값의 예측한 값을 출력한다\n",
    "print(sess.run(H, feed_dict={X: [6]})) # 2020년도 1인 가구수 예측\n",
    "result_2020 = sess.run(H, feed_dict={X: [6]})"
   ]
  },
  {
   "cell_type": "code",
   "execution_count": 8,
   "metadata": {},
   "outputs": [
    {
     "name": "stdout",
     "output_type": "stream",
     "text": [
      "[1115744, 1138860, 1180540, 1229421, 1261831, 1300109, 1338386, 1376664, 1414941, 1453219]\n"
     ]
    }
   ],
   "source": [
    "for i in range(5, 11):  # 2019년 ~ 2024년까지 데이터 예측하여 리스트에 추가\n",
    "    yData1.append(int(sess.run(H, feed_dict={X: [i]})))\n",
    "print(yData1)"
   ]
  },
  {
   "cell_type": "code",
   "execution_count": 9,
   "metadata": {},
   "outputs": [
    {
     "data": {
      "text/plain": [
       "[<matplotlib.lines.Line2D at 0x21c9fc9f7f0>]"
      ]
     },
     "execution_count": 9,
     "metadata": {},
     "output_type": "execute_result"
    },
    {
     "data": {
      "image/png": "[encoded data removed]",
      "text/plain": [
       "<Figure size 432x288 with 1 Axes>"
      ]
     },
     "metadata": {
      "needs_background": "light"
     },
     "output_type": "display_data"
    }
   ],
   "source": [
    "fig = plt.figure()\n",
    "ax = plt.subplot(1, 1, 1)\n",
    "plt.title('2015년 - 2024년 서울특별시 1인가구수 추이 예측 그래프')\n",
    "ax.plot(xData1, yData1, marker='o')"
   ]
  },
  {
   "cell_type": "code",
   "execution_count": 10,
   "metadata": {},
   "outputs": [
    {
     "name": "stdout",
     "output_type": "stream",
     "text": [
      "0 226997570000.0 [28304.582] [11162.598]\n",
      "500 1831878800.0 [48417.39] [421427.22]\n",
      "1000 116765990.0 [20953.422] [502174.66]\n",
      "1500 31239006.0 [14820.501] [520206.2]\n",
      "2000 26974082.0 [13451.012] [524232.66]\n",
      "2500 26761390.0 [13145.247] [525131.6]\n",
      "3000 26750736.0 [13077.202] [525331.75]\n",
      "3500 26750266.0 [13061.593] [525377.75]\n",
      "4000 26750172.0 [13060.328] [525381.1]\n",
      "4500 26750172.0 [13060.328] [525381.1]\n",
      "5000 26750172.0 [13060.328] [525381.1]\n",
      "[603743.1]\n"
     ]
    }
   ],
   "source": [
    "# 서울특별시 남자 1인가구수 학습\n",
    "sess.run(init)\n",
    "#학습을 시키는 파트\n",
    "for i in range(5001):\n",
    "    sess.run(train, feed_dict = {X: xData, Y: yData2})\n",
    "    if i % 500 == 0:\n",
    "        print(i, sess.run(cost, feed_dict = {X: xData, Y: yData2}),sess.run(W),sess.run(b))\n",
    "# x의 6번째 값의 예측한 값을 출력한다\n",
    "print(sess.run(H, feed_dict={X: [6]})) # 2020년도 남자 1인 가구수 예측\n",
    "result_2020 = sess.run(H, feed_dict={X: [6]})"
   ]
  },
  {
   "cell_type": "code",
   "execution_count": 11,
   "metadata": {},
   "outputs": [
    {
     "name": "stdout",
     "output_type": "stream",
     "text": [
      "[544059, 544607, 561524, 581944, 590682, 603743, 616803, 629863, 642924, 655984]\n"
     ]
    }
   ],
   "source": [
    "for i in range(5, 11):  # 2019년 ~ 2024년까지 데이터 예측하여 리스트에 추가\n",
    "    yData2.append(int(sess.run(H, feed_dict={X: [i]})))\n",
    "print(yData2)"
   ]
  },
  {
   "cell_type": "code",
   "execution_count": 12,
   "metadata": {},
   "outputs": [
    {
     "name": "stdout",
     "output_type": "stream",
     "text": [
      "0 268667630000.0 [31025.334] [12255.679]\n",
      "500 1915814000.0 [61621.137] [438031.3]\n",
      "1000 97624330.0 [33343.957] [521169.7]\n",
      "1500 6957141.0 [27029.377] [539735.25]\n",
      "2000 2435962.5 [25619.273] [543881.1]\n",
      "2500 2210557.5 [25304.547] [544806.5]\n",
      "3000 2199309.2 [25234.486] [545012.5]\n",
      "3500 2198733.0 [25218.496] [545059.6]\n",
      "4000 2198713.0 [25217.03] [545063.6]\n",
      "4500 2198713.0 [25217.03] [545063.6]\n",
      "5000 2198713.0 [25217.03] [545063.6]\n",
      "[696365.8]\n"
     ]
    }
   ],
   "source": [
    "# 서울특별시 여자 1인가구수 학습\n",
    "sess.run(init)\n",
    "#학습을 시키는 파트\n",
    "for i in range(5001):\n",
    "    sess.run(train, feed_dict = {X: xData, Y: yData3})\n",
    "    if i % 500 == 0:\n",
    "        print(i, sess.run(cost, feed_dict = {X: xData, Y: yData3}),sess.run(W),sess.run(b))\n",
    "# x의 6번째 값의 예측한 값을 출력한다\n",
    "print(sess.run(H, feed_dict={X: [6]})) # 2020년도 여자 1인 가구수 예측\n",
    "result_2020 = sess.run(H, feed_dict={X: [6]})"
   ]
  },
  {
   "cell_type": "code",
   "execution_count": 13,
   "metadata": {},
   "outputs": [
    {
     "name": "stdout",
     "output_type": "stream",
     "text": [
      "[571685, 594253, 619016, 647477, 671148, 696365, 721582, 746799, 772016, 797233]\n"
     ]
    }
   ],
   "source": [
    "for i in range(5, 11):  # 2019년 ~ 2024년까지 데이터 예측하여 리스트에 추가\n",
    "    yData3.append(int(sess.run(H, feed_dict={X: [i]})))\n",
    "print(yData3)"
   ]
  },
  {
   "cell_type": "code",
   "execution_count": 14,
   "metadata": {},
   "outputs": [
    {
     "data": {
      "text/plain": [
       "<matplotlib.legend.Legend at 0x21ca0f6e940>"
      ]
     },
     "execution_count": 14,
     "metadata": {},
     "output_type": "execute_result"
    },
    {
     "data": {
      "image/png": "[encoded data removed]",
      "text/plain": [
       "<Figure size 432x288 with 1 Axes>"
      ]
     },
     "metadata": {
      "needs_background": "light"
     },
     "output_type": "display_data"
    }
   ],
   "source": [
    "# 서울특별시 1인가구수 남녀별 추이 예측 그래프 출력\n",
    "fig = plt.figure()\n",
    "ax = plt.subplot(1, 1, 1)\n",
    "plt.title('2015년-2024년 서울특별시 1인가구수 남녀별 추이 예측 그래프')\n",
    "ax.plot(xData1, yData2, marker='o')\n",
    "ax.plot(xData1, yData3, marker='o')\n",
    "plt.legend(['남성', '여성'])"
   ]
  },
  {
   "cell_type": "code",
   "execution_count": 15,
   "metadata": {},
   "outputs": [
    {
     "data": {
      "text/html": [
       "<div>\n",
       "<style scoped>\n",
       "    .dataframe tbody tr th:only-of-type {\n",
       "        vertical-align: middle;\n",
       "    }\n",
       "\n",
       "    .dataframe tbody tr th {\n",
       "        vertical-align: top;\n",
       "    }\n",
       "\n",
       "    .dataframe thead th {\n",
       "        text-align: right;\n",
       "    }\n",
       "</style>\n",
       "<table border=\"1\" class=\"dataframe\">\n",
       "  <thead>\n",
       "    <tr style=\"text-align: right;\">\n",
       "      <th></th>\n",
       "      <th>행정구역별(읍면동)</th>\n",
       "      <th>2015</th>\n",
       "      <th>2015.1</th>\n",
       "      <th>2015.2</th>\n",
       "      <th>2015.3</th>\n",
       "      <th>2016</th>\n",
       "      <th>2016.1</th>\n",
       "      <th>2016.2</th>\n",
       "      <th>2016.3</th>\n",
       "      <th>2017</th>\n",
       "      <th>2017.1</th>\n",
       "      <th>2017.2</th>\n",
       "      <th>2017.3</th>\n",
       "      <th>2018</th>\n",
       "      <th>2018.1</th>\n",
       "      <th>2018.2</th>\n",
       "      <th>2018.3</th>\n",
       "    </tr>\n",
       "  </thead>\n",
       "  <tbody>\n",
       "    <tr>\n",
       "      <th>0</th>\n",
       "      <td>행정구역별(읍면동)</td>\n",
       "      <td>총가구_가구 (가구)</td>\n",
       "      <td>총가구_가구원_계 (명)</td>\n",
       "      <td>총가구_가구원_남자 (명)</td>\n",
       "      <td>총가구_가구원_여자 (명)</td>\n",
       "      <td>총가구_가구 (가구)</td>\n",
       "      <td>총가구_가구원_계 (명)</td>\n",
       "      <td>총가구_가구원_남자 (명)</td>\n",
       "      <td>총가구_가구원_여자 (명)</td>\n",
       "      <td>총가구_가구 (가구)</td>\n",
       "      <td>총가구_가구원_계 (명)</td>\n",
       "      <td>총가구_가구원_남자 (명)</td>\n",
       "      <td>총가구_가구원_여자 (명)</td>\n",
       "      <td>총가구_가구 (가구)</td>\n",
       "      <td>총가구_가구원_계 (명)</td>\n",
       "      <td>총가구_가구원_남자 (명)</td>\n",
       "      <td>총가구_가구원_여자 (명)</td>\n",
       "    </tr>\n",
       "    <tr>\n",
       "      <th>1</th>\n",
       "      <td>전국</td>\n",
       "      <td>19560603</td>\n",
       "      <td>51069375</td>\n",
       "      <td>25608502</td>\n",
       "      <td>25460873</td>\n",
       "      <td>19837665</td>\n",
       "      <td>51269554</td>\n",
       "      <td>25696987</td>\n",
       "      <td>25572567</td>\n",
       "      <td>20167922</td>\n",
       "      <td>51422507</td>\n",
       "      <td>25768055</td>\n",
       "      <td>25654452</td>\n",
       "      <td>20499543</td>\n",
       "      <td>51629512</td>\n",
       "      <td>25877195</td>\n",
       "      <td>25752317</td>\n",
       "    </tr>\n",
       "    <tr>\n",
       "      <th>2</th>\n",
       "      <td>서울특별시</td>\n",
       "      <td>3914820</td>\n",
       "      <td>9904312</td>\n",
       "      <td>4859535</td>\n",
       "      <td>5044777</td>\n",
       "      <td>3915023</td>\n",
       "      <td>9805506</td>\n",
       "      <td>4799115</td>\n",
       "      <td>5006391</td>\n",
       "      <td>3948850</td>\n",
       "      <td>9741871</td>\n",
       "      <td>4757642</td>\n",
       "      <td>4984229</td>\n",
       "      <td>3981741</td>\n",
       "      <td>9673936</td>\n",
       "      <td>4718972</td>\n",
       "      <td>4954964</td>\n",
       "    </tr>\n",
       "    <tr>\n",
       "      <th>3</th>\n",
       "      <td>경기도</td>\n",
       "      <td>4537581</td>\n",
       "      <td>12479061</td>\n",
       "      <td>6309661</td>\n",
       "      <td>6169400</td>\n",
       "      <td>4647205</td>\n",
       "      <td>12671956</td>\n",
       "      <td>6405301</td>\n",
       "      <td>6266655</td>\n",
       "      <td>4773632</td>\n",
       "      <td>12851601</td>\n",
       "      <td>6502723</td>\n",
       "      <td>6348878</td>\n",
       "      <td>4934208</td>\n",
       "      <td>13103188</td>\n",
       "      <td>6635106</td>\n",
       "      <td>6468082</td>\n",
       "    </tr>\n",
       "  </tbody>\n",
       "</table>\n",
       "</div>"
      ],
      "text/plain": [
       "   행정구역별(읍면동)         2015         2015.1          2015.2          2015.3  \\\n",
       "0  행정구역별(읍면동)  총가구_가구 (가구)  총가구_가구원_계 (명)  총가구_가구원_남자 (명)  총가구_가구원_여자 (명)   \n",
       "1          전국     19560603       51069375        25608502        25460873   \n",
       "2       서울특별시      3914820        9904312         4859535         5044777   \n",
       "3         경기도      4537581       12479061         6309661         6169400   \n",
       "\n",
       "          2016         2016.1          2016.2          2016.3         2017  \\\n",
       "0  총가구_가구 (가구)  총가구_가구원_계 (명)  총가구_가구원_남자 (명)  총가구_가구원_여자 (명)  총가구_가구 (가구)   \n",
       "1     19837665       51269554        25696987        25572567     20167922   \n",
       "2      3915023        9805506         4799115         5006391      3948850   \n",
       "3      4647205       12671956         6405301         6266655      4773632   \n",
       "\n",
       "          2017.1          2017.2          2017.3         2018         2018.1  \\\n",
       "0  총가구_가구원_계 (명)  총가구_가구원_남자 (명)  총가구_가구원_여자 (명)  총가구_가구 (가구)  총가구_가구원_계 (명)   \n",
       "1       51422507        25768055        25654452     20499543       51629512   \n",
       "2        9741871         4757642         4984229      3981741        9673936   \n",
       "3       12851601         6502723         6348878      4934208       13103188   \n",
       "\n",
       "           2018.2          2018.3  \n",
       "0  총가구_가구원_남자 (명)  총가구_가구원_여자 (명)  \n",
       "1        25877195        25752317  \n",
       "2         4718972         4954964  \n",
       "3         6635106         6468082  "
      ]
     },
     "execution_count": 15,
     "metadata": {},
     "output_type": "execute_result"
    }
   ],
   "source": [
    "# 서울 전체 가구수 추이\n",
    "data2 = pd.read_csv(\"서울특별시총가구.csv\", encoding = 'cp949')\n",
    "data2"
   ]
  },
  {
   "cell_type": "code",
   "execution_count": 16,
   "metadata": {},
   "outputs": [],
   "source": [
    "df4 = data2.loc[2,[\"2015\", \"2016\", \"2017\", \"2018\"]] # 2015년 ~ 2018년 서울특별시 총가구수 통계 추출 "
   ]
  },
  {
   "cell_type": "code",
   "execution_count": 17,
   "metadata": {},
   "outputs": [
    {
     "name": "stdout",
     "output_type": "stream",
     "text": [
      "[3914820, 3915023, 3948850, 3981741]\n"
     ]
    }
   ],
   "source": [
    "yData4 = [] # Tensorflow에사 학습할 데이터에 대한 값이 들어가는 데이터(서울 총 인구)\n",
    "\n",
    "for row in df4:\n",
    "    yData4.append(int(row))\n",
    "print(yData4)"
   ]
  },
  {
   "cell_type": "code",
   "execution_count": 18,
   "metadata": {},
   "outputs": [
    {
     "name": "stdout",
     "output_type": "stream",
     "text": [
      "0 11377928000000.0 [197562.81] [78716.3]\n",
      "500 99873930000.0 [286370.] [3108470.8]\n",
      "1000 5058057000.0 [82169.48] [3708845.]\n",
      "1500 329849730.0 [36569.17] [3842915.5]\n",
      "2000 94084560.0 [26386.51] [3872853.8]\n",
      "2500 82329090.0 [24112.98] [3879538.]\n",
      "3000 81743150.0 [23605.953] [3881028.5]\n",
      "3500 81712840.0 [23493.8] [3881358.2]\n",
      "4000 81711736.0 [23471.531] [3881423.5]\n",
      "4500 81711736.0 [23471.531] [3881423.5]\n",
      "5000 81711736.0 [23471.531] [3881423.5]\n",
      "[4022252.8]\n"
     ]
    }
   ],
   "source": [
    "# 서울특별시 총 가구수 학습\n",
    "sess.run(init)\n",
    "#학습을 시키는 파트\n",
    "for i in range(5001):\n",
    "    sess.run(train, feed_dict = {X: xData, Y: yData4})\n",
    "    if i % 500 == 0:\n",
    "        print(i, sess.run(cost, feed_dict = {X: xData, Y: yData4}),sess.run(W),sess.run(b))\n",
    "# x의 6번째 값의 예측한 값을 출력한다\n",
    "print(sess.run(H, feed_dict={X: [6]})) # 2020년도 서울 총 인구 예측\n",
    "result_2020 = sess.run(H, feed_dict={X: [6]})"
   ]
  },
  {
   "cell_type": "code",
   "execution_count": 19,
   "metadata": {},
   "outputs": [
    {
     "name": "stdout",
     "output_type": "stream",
     "text": [
      "[3914820, 3915023, 3948850, 3981741, 3998781, 4022252, 4045724, 4069195, 4092667, 4116138]\n"
     ]
    }
   ],
   "source": [
    "for i in range(5, 11):  # 2019년 ~ 2024년까지 데이터 예측하여 리스트에 추가\n",
    "    yData4.append(int(sess.run(H, feed_dict={X: [i]})))\n",
    "print(yData4)"
   ]
  },
  {
   "cell_type": "code",
   "execution_count": 20,
   "metadata": {},
   "outputs": [
    {
     "data": {
      "text/plain": [
       "[<matplotlib.lines.Line2D at 0x21ca0fd5d68>]"
      ]
     },
     "execution_count": 20,
     "metadata": {},
     "output_type": "execute_result"
    },
    {
     "data": {
      "image/png": "[encoded data removed]",
      "text/plain": [
       "<Figure size 432x288 with 1 Axes>"
      ]
     },
     "metadata": {
      "needs_background": "light"
     },
     "output_type": "display_data"
    }
   ],
   "source": [
    "# 서울특별시 총 가구수 추이 예측 그래프 출력\n",
    "fig = plt.figure()\n",
    "ax = plt.subplot(1, 1, 1)\n",
    "plt.title('2015년 - 2024년 서울특별시 총 가구수 추이 예측 그래프')\n",
    "ax.plot(xData1, yData4, marker='o')"
   ]
  },
  {
   "cell_type": "code",
   "execution_count": 21,
   "metadata": {},
   "outputs": [
    {
     "name": "stdout",
     "output_type": "stream",
     "text": [
      "[28.5, 29.1, 29.9, 30.9, 31.6, 32.3, 33.1, 33.8, 34.6, 35.3]\n",
      "[13.9, 13.9, 14.2, 14.6, 14.8, 15.0, 15.2, 15.5, 15.7, 15.9]\n",
      "[14.6, 15.2, 15.7, 16.3, 16.8, 17.3, 17.8, 18.4, 18.9, 19.4]\n"
     ]
    }
   ],
   "source": [
    "percentage1 = []\n",
    "percentage2 = []\n",
    "percentage3 = []\n",
    "for i in range(len(yData1)):\n",
    "    percentage1.append(round(float((yData1[i]/yData4[i])*100), 1))\n",
    "    percentage2.append(round(float((yData2[i]/yData4[i])*100), 1))\n",
    "    percentage3.append(round(float((yData3[i]/yData4[i])*100), 1))\n",
    "print(percentage1)\n",
    "print(percentage2)\n",
    "print(percentage3)"
   ]
  },
  {
   "cell_type": "code",
   "execution_count": 22,
   "metadata": {},
   "outputs": [
    {
     "data": {
      "text/plain": [
       "<matplotlib.legend.Legend at 0x21ca1054320>"
      ]
     },
     "execution_count": 22,
     "metadata": {},
     "output_type": "execute_result"
    },
    {
     "data": {
      "image/png": "[encoded data removed]",
      "text/plain": [
       "<Figure size 432x288 with 1 Axes>"
      ]
     },
     "metadata": {
      "needs_background": "light"
     },
     "output_type": "display_data"
    }
   ],
   "source": [
    "# 1인 가구수 비율 추이 그래프로 보기\n",
    "fig = plt.figure()\n",
    "ax = plt.subplot(1, 1, 1)\n",
    "plt.title('2015년-2024년 서울특별시 1인가구수 비율 추이 예측 그래프')\n",
    "ax.plot(xData1, percentage1, marker='o')\n",
    "ax.plot(xData1, percentage2, marker='o')\n",
    "ax.plot(xData1, percentage3, marker='o')\n",
    "plt.legend(['전체', '남성', '여성'])"
   ]
  },
  {
   "cell_type": "code",
   "execution_count": 23,
   "metadata": {},
   "outputs": [
    {
     "data": {
      "image/png": "[encoded data removed]",
      "text/plain": [
       "<Figure size 432x288 with 1 Axes>"
      ]
     },
     "metadata": {},
     "output_type": "display_data"
    },
    {
     "data": {
      "image/png": "[encoded data removed]",
      "text/plain": [
       "<Figure size 432x288 with 1 Axes>"
      ]
     },
     "metadata": {},
     "output_type": "display_data"
    },
    {
     "data": {
      "image/png": "[encoded data removed]",
      "text/plain": [
       "<Figure size 432x288 with 1 Axes>"
      ]
     },
     "metadata": {},
     "output_type": "display_data"
    },
    {
     "data": {
      "image/png": "[encoded data removed]",
      "text/plain": [
       "<Figure size 432x288 with 1 Axes>"
      ]
     },
     "metadata": {},
     "output_type": "display_data"
    },
    {
     "data": {
      "image/png": "[encoded data removed]",
      "text/plain": [
       "<Figure size 432x288 with 1 Axes>"
      ]
     },
     "metadata": {},
     "output_type": "display_data"
    },
    {
     "data": {
      "image/png": "[encoded data removed]",
      "text/plain": [
       "<Figure size 432x288 with 1 Axes>"
      ]
     },
     "metadata": {},
     "output_type": "display_data"
    },
    {
     "data": {
      "image/png": "[encoded data removed]",
      "text/plain": [
       "<Figure size 432x288 with 1 Axes>"
      ]
     },
     "metadata": {},
     "output_type": "display_data"
    },
    {
     "data": {
      "image/png": "[encoded data removed]",
      "text/plain": [
       "<Figure size 432x288 with 1 Axes>"
      ]
     },
     "metadata": {},
     "output_type": "display_data"
    },
    {
     "data": {
      "image/png": "[encoded data removed]",
      "text/plain": [
       "<Figure size 432x288 with 1 Axes>"
      ]
     },
     "metadata": {},
     "output_type": "display_data"
    },
    {
     "data": {
      "image/png": "[encoded data removed]",
      "text/plain": [
       "<Figure size 432x288 with 1 Axes>"
      ]
     },
     "metadata": {},
     "output_type": "display_data"
    }
   ],
   "source": [
    "# 1인 가구수 비율 추이 파이 그래프로 보기\n",
    "\n",
    "label = ['1인가구','다른가구']\n",
    "c = ['#FF1C6A', '#14CCC0']\n",
    "for i in range(len(yData1)):\n",
    "    pieList = []\n",
    "    pieList.append(yData1[i])\n",
    "    pieList.append(yData4[i]-yData1[i])\n",
    "    plt.title(xData1[i])\n",
    "    plt.pie(pieList, labels=label, colors=c, autopct='%1.f%%')\n",
    "    plt.show()"
   ]
  },
  {
   "cell_type": "code",
   "execution_count": null,
   "metadata": {},
   "outputs": [],
   "source": []
  }
 ],
 "metadata": {
  "kernelspec": {
   "display_name": "Python 3",
   "language": "python",
   "name": "python3"
  },
  "language_info": {
   "codemirror_mode": {
    "name": "ipython",
    "version": 3
   },
   "file_extension": ".py",
   "mimetype": "text/x-python",
   "name": "python",
   "nbconvert_exporter": "python",
   "pygments_lexer": "ipython3",
   "version": "3.7.3"
  }
 },
 "nbformat": 4,
 "nbformat_minor": 2
}
